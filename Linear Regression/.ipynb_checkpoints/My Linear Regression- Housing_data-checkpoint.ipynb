{
 "cells": [
  {
   "cell_type": "markdown",
   "metadata": {},
   "source": [
    "# Linear Regression in Python Hardcoded"
   ]
  },
  {
   "cell_type": "markdown",
   "metadata": {},
   "source": [
    "We are going to implement linear regression from scratch."
   ]
  },
  {
   "cell_type": "code",
   "execution_count": 2,
   "metadata": {},
   "outputs": [],
   "source": [
    "#importing dependencies\n",
    "\n",
    "import numpy as np\n",
    "import matplotlib.pyplot as plt\n",
    "%matplotlib inline"
   ]
  },
  {
   "cell_type": "code",
   "execution_count": 3,
   "metadata": {},
   "outputs": [],
   "source": [
    "#Reading data from the CSV file\n",
    "datafile = 'Housing_data.txt'\n",
    "#Read into the data file\n",
    "cols = np.loadtxt(datafile,delimiter=',',usecols=(0,1,2,3),unpack=True) #Read in comma separated data\n",
    "#Usecols() will give how many columns to read\n",
    "#Form the usual \"X\" matrix and \"y\" vector\n",
    "X = np.transpose(np.array(cols[:-1]))\n",
    "#print(X)\n",
    "y = np.transpose(np.array(cols[-1:]))\n",
    "#print(y)\n",
    "m = y.size # number of training examples\n",
    "#Insert the usual column of 1's into the \"X\" matrix\n",
    "X = np.insert(X,0,1,axis=1)\n",
    "#numpy.insert(arr, obj, values, axis) will broadcast 1 to all rows and will make a column"
   ]
  },
  {
   "cell_type": "code",
   "execution_count": 4,
   "metadata": {},
   "outputs": [
    {
     "name": "stdout",
     "output_type": "stream",
     "text": [
      "(47, 4)\n",
      "(47, 1)\n"
     ]
    }
   ],
   "source": [
    "print(X.shape)\n",
    "print(y.shape)"
   ]
  },
  {
   "cell_type": "code",
   "execution_count": 5,
   "metadata": {},
   "outputs": [
    {
     "name": "stdout",
     "output_type": "stream",
     "text": [
      "2000.6808510638298\n",
      "786.2026187430467\n"
     ]
    }
   ],
   "source": [
    "print(np.mean(X[:,1]))\n",
    "print(np.std(X[:,1]))"
   ]
  },
  {
   "cell_type": "code",
   "execution_count": 6,
   "metadata": {},
   "outputs": [],
   "source": [
    "#Here we have to do normalization on the data as it has values of different ranges.\n",
    "stored_feature_means, stored_feature_stds = [], []\n",
    "Xnorm = X\n",
    "for col in range(Xnorm.shape[1]):\n",
    "    if(col !=0):\n",
    "        stored_feature_means.append(np.mean(Xnorm[:,col]))\n",
    "        stored_feature_stds.append(np.std(Xnorm[:,col]))\n",
    "        #Skip the first column\n",
    "        #Faster to not recompute the mean and std again, just used stored values\n",
    "        Xnorm[:,col] = (Xnorm[:,col] - stored_feature_means[-1])/stored_feature_stds[-1]"
   ]
  },
  {
   "cell_type": "code",
   "execution_count": 151,
   "metadata": {},
   "outputs": [
    {
     "name": "stdout",
     "output_type": "stream",
     "text": [
      "9.448706592554524e-18\n",
      "1.0\n",
      "[2000.6808510638298, 3.1702127659574466, 42.744680851063826]\n",
      "[786.2026187430467, 0.7528428090618781, 22.628797398594884]\n"
     ]
    }
   ],
   "source": [
    "print(np.mean(Xnorm[:,1]))\n",
    "print(np.std(Xnorm[:,1]))\n",
    "print(stored_feature_means)\n",
    "print(stored_feature_stds)"
   ]
  },
  {
   "cell_type": "code",
   "execution_count": 83,
   "metadata": {},
   "outputs": [],
   "source": [
    "#after feature normalization we move on to the main algorithm\n",
    "\n",
    "#linear function hypothesis\n",
    "def h(X,theta): #Linear hypothesis function\n",
    "    return np.dot(X,theta) #h(x)=theta*X ...both are vectors\n",
    "\n",
    "\"\"\"\n",
    "theta_start is an n- dimensional vector of initial theta guess\n",
    "X is matrix with n- columns and m- rows\n",
    "y is a matrix with m- rows and 1 column\n",
    "\"\"\"\n",
    "\n",
    "#Compute Cost\n",
    "def compute_cost(theta,X,y):\n",
    "    pred=h(X,theta) #calling the hypothesis for predictions\n",
    "    for i in range(0,m):\n",
    "        sqr_error=(pred-y)**2 #Calculating the squared errors\n",
    "        J=1/(2*m)*sum(sqr_error) # Cost function - totaling the sqr_error and dividing it with total instances\n",
    "        return (J[0])\n"
   ]
  },
  {
   "cell_type": "code",
   "execution_count": 84,
   "metadata": {},
   "outputs": [
    {
     "name": "stdout",
     "output_type": "stream",
     "text": [
      "The initial cost with Theta initialized as zero:\n",
      "65591548106.45744\n"
     ]
    }
   ],
   "source": [
    "#Intializing theta value as a zero/null matrix\n",
    "initial_theta=np.zeros((X.shape[1],1)) #means it has rows=no. of coloums of X and 1 coloumn\n",
    "\n",
    "print(\"The initial cost with Theta initialized as zero:\")\n",
    "print(compute_cost(initial_theta,X,y))\n",
    "    "
   ]
  },
  {
   "cell_type": "code",
   "execution_count": 85,
   "metadata": {},
   "outputs": [],
   "source": []
  },
  {
   "cell_type": "code",
   "execution_count": 86,
   "metadata": {},
   "outputs": [
    {
     "name": "stdout",
     "output_type": "stream",
     "text": [
      "(4, 1)\n",
      "(47, 1)\n",
      "(47, 4)\n"
     ]
    }
   ],
   "source": [
    "errors=h(X,initial_theta) - y\n",
    "print(initial_theta.shape)\n",
    "print(errors.shape)\n",
    "print(X.shape)"
   ]
  },
  {
   "cell_type": "code",
   "execution_count": 95,
   "metadata": {},
   "outputs": [],
   "source": [
    "#Actual Gradient Decent Algorithm for minimizing cost\n",
    "def Gradient_decend(X,y,theta,num_iters,alpha):\n",
    "    m=y.shape[0]\n",
    "    J_hist=np.zeros((num_iters,1))\n",
    "    #J_hist for ploting for looking at the Error\n",
    "    for iter in range(0,num_iters):\n",
    "        errors=h(X,theta) - y\n",
    "        Xnew=np.dot(X.T,errors)\n",
    "        #Calculating the new theta\n",
    "        theta_change=(alpha*(1/m)) * (Xnew)\n",
    "        theta= theta-theta_change\n",
    "        #Updating simultaneously theta every iteration\n",
    "        \n",
    "        J_hist[iter]=compute_cost(theta,X,y)\n",
    "            \n",
    "    return (theta,J_hist)\n",
    "    "
   ]
  },
  {
   "cell_type": "code",
   "execution_count": 121,
   "metadata": {},
   "outputs": [
    {
     "name": "stdout",
     "output_type": "stream",
     "text": [
      "Initial values of theta\n",
      "[[0.]\n",
      " [0.]\n",
      " [0.]\n",
      " [0.]]\n",
      "With dimentions : (4, 1)\n"
     ]
    }
   ],
   "source": [
    "print(\"Initial values of theta\")\n",
    "print(initial_theta)\n",
    "print(\"With dimentions : \"+str(theta.shape))\n",
    "#print(theta_change.shape)"
   ]
  },
  {
   "cell_type": "code",
   "execution_count": 132,
   "metadata": {},
   "outputs": [],
   "source": [
    "#Initialization\n",
    "iterations=1500\n",
    "alpha=0.01"
   ]
  },
  {
   "cell_type": "code",
   "execution_count": 133,
   "metadata": {},
   "outputs": [
    {
     "name": "stdout",
     "output_type": "stream",
     "text": [
      "The updates values of theta are :\n",
      "[[340412.56301439]\n",
      " [109467.61919225]\n",
      " [ -6412.85855448]\n",
      " [ -1837.5217829 ]]\n"
     ]
    }
   ],
   "source": [
    "#Run gradient descent with multiple variables, initial theta still set to zeros\n",
    "#(Note! This doesn't work unless we feature normalize! \"overflow encountered in multiply\")\n",
    "initial_theta = np.zeros((Xnorm.shape[1],1))\n",
    "theta, j_vec = Gradient_decend(Xnorm,y,initial_theta,iterations,alpha)\n",
    "print(\"The updates values of theta are :\")\n",
    "print(theta)"
   ]
  },
  {
   "cell_type": "code",
   "execution_count": 134,
   "metadata": {},
   "outputs": [],
   "source": [
    "#Plot the convergence of the cost function\n",
    "def plotConvergence(jvec):\n",
    "    plt.figure(figsize=(10,6))\n",
    "    plt.plot(range(len(jvec)),jvec,'bo')\n",
    "    plt.grid(True)\n",
    "    plt.title(\"Convergence of Cost Function\")\n",
    "    plt.xlabel(\"Iteration number\")\n",
    "    plt.ylabel(\"Cost function\")\n",
    "    dummy = plt.xlim([-0.05*iterations,1.05*iterations])\n",
    "    #dummy = plt.ylim([4,8])"
   ]
  },
  {
   "cell_type": "code",
   "execution_count": 135,
   "metadata": {},
   "outputs": [
    {
     "data": {
      "image/png": "[encoded data removed]",
      "text/plain": [
       "<Figure size 720x432 with 1 Axes>"
      ]
     },
     "metadata": {
      "needs_background": "light"
     },
     "output_type": "display_data"
    }
   ],
   "source": [
    "#Plot convergence of cost function:\n",
    "plotConvergence(j_vec)"
   ]
  },
  {
   "cell_type": "code",
   "execution_count": 165,
   "metadata": {},
   "outputs": [],
   "source": [
    "#print \"Final result theta parameters: \\n\",theta\n",
    "def predict(ytest):    \n",
    "    print (\"Check of result: What is price of house with \"+ str(ytest[0]) +\" square feet and \"+str(ytest[1])+ \" bedrooms and with an age of \"+str(ytest[2])+ \" years?\")\n",
    "    #To \"undo\" feature normalization, we \"undo\" 1650 and 3, then plug it into our hypothesis\n",
    "    ytestscaled = [(ytest[x]-stored_feature_means[x])/stored_feature_stds[x] for x in range(len(ytest))]\n",
    "    #print(ytestscaled)\n",
    "    ytestscaled.insert(0,1)\n",
    "    print (\"$ %0.2f\" % float(h(ytestscaled,theta)))"
   ]
  },
  {
   "cell_type": "code",
   "execution_count": 166,
   "metadata": {},
   "outputs": [
    {
     "name": "stdout",
     "output_type": "stream",
     "text": [
      "Check of result: What is price of house with 1203 square feet and 3 bedrooms and with an age of 11 years?\n",
      "$ 233374.42\n"
     ]
    }
   ],
   "source": [
    "ytest=np.array([1203,3,11])\n",
    "predict(ytest)"
   ]
  },
  {
   "cell_type": "code",
   "execution_count": null,
   "metadata": {},
   "outputs": [],
   "source": []
  }
 ],
 "metadata": {
  "kernelspec": {
   "display_name": "Python 3",
   "language": "python",
   "name": "python3"
  },
  "language_info": {
   "codemirror_mode": {
    "name": "ipython",
    "version": 3
   },
   "file_extension": ".py",
   "mimetype": "text/x-python",
   "name": "python",
   "nbconvert_exporter": "python",
   "pygments_lexer": "ipython3",
   "version": "3.7.1"
  }
 },
 "nbformat": 4,
 "nbformat_minor": 2
}
